{
 "cells": [
  {
   "cell_type": "code",
   "execution_count": 2,
   "id": "2722cdd2",
   "metadata": {},
   "outputs": [
    {
     "name": "stdout",
     "output_type": "stream",
     "text": [
      "['Player', 'Nation', 'Pos', 'Squad', 'Age', 'Born', '90s', 'Cmp', 'Att', 'Cmp%', 'TotDist', 'PrgDist', 'Cmp', 'Att', 'Cmp%', 'Cmp', 'Att', 'Cmp%', 'Cmp', 'Att', 'Cmp%', 'Ast', 'xAG', 'xA', 'A-xAG', 'KP', '1/3', 'PPA', 'CrsPA', 'PrgP', 'Matches']\n"
     ]
    },
    {
     "ename": "NameError",
     "evalue": "name 'league' is not defined",
     "output_type": "error",
     "traceback": [
      "\u001b[1;31m---------------------------------------------------------------------------\u001b[0m",
      "\u001b[1;31mNameError\u001b[0m                                 Traceback (most recent call last)",
      "Cell \u001b[1;32mIn[2], line 47\u001b[0m\n\u001b[0;32m     44\u001b[0m df \u001b[38;5;241m=\u001b[39m pd\u001b[38;5;241m.\u001b[39mDataFrame(table_data, columns\u001b[38;5;241m=\u001b[39mheaders)\n\u001b[0;32m     46\u001b[0m player_data\u001b[38;5;241m.\u001b[39mappend(df)\n\u001b[1;32m---> 47\u001b[0m naming \u001b[38;5;241m=\u001b[39m \u001b[43mleague\u001b[49m \u001b[38;5;241m+\u001b[39m \u001b[38;5;124m\"\u001b[39m\u001b[38;5;124mpassing.csv\u001b[39m\u001b[38;5;124m\"\u001b[39m\n\u001b[0;32m     49\u001b[0m \u001b[38;5;66;03m#df.to_csv(naming)\u001b[39;00m\n\u001b[0;32m     50\u001b[0m \u001b[38;5;28mprint\u001b[39m(url)\n",
      "\u001b[1;31mNameError\u001b[0m: name 'league' is not defined"
     ]
    }
   ],
   "source": [
    "from selenium import webdriver\n",
    "import requests\n",
    "import re\n",
    "from bs4 import BeautifulSoup\n",
    "import pandas as pd\n",
    "\n",
    "\n",
    "player_data = []\n",
    "\n",
    "url = \"https://fbref.com/en/comps/9/2021-2022/passing/2021-2022-Premier-League-Stats\"\n",
    "\n",
    "driver = webdriver.Chrome()\n",
    "\n",
    "driver.get(url)\n",
    "\n",
    "driver.implicitly_wait(10)\n",
    "\n",
    "html = driver.page_source\n",
    "\n",
    "soup = BeautifulSoup(html, 'html.parser')\n",
    "\n",
    "# Get stats table\n",
    "div_stats_standard = soup.find('div', {'id': 'div_stats_passing'}) \n",
    "if div_stats_standard != None:\n",
    "\n",
    "    # Table Headers\n",
    "    headers = []\n",
    "    header_row = div_stats_standard.find('thead').find('tr').find_next('tr')\n",
    "    for header in header_row.find_all('th'):\n",
    "        headers.append(header.text.strip())\n",
    "    headers.pop(0)\n",
    "    # Table Data\n",
    "    table_data = []\n",
    "    table_body = div_stats_standard.find('tbody')\n",
    "    for row in table_body.find_all('tr'):\n",
    "        row_data = []\n",
    "        for cell in row.find_all('td'):\n",
    "            row_data.append(cell.text.strip())\n",
    "        table_data.append(row_data)\n",
    "\n",
    "\n",
    "    print(headers)\n",
    "\n",
    "    df = pd.DataFrame(table_data, columns=headers)\n",
    "\n",
    "    player_data.append(df)\n",
    "    naming = \"premierleaguepassing.csv\"\n",
    "\n",
    "    df.to_csv(naming)\n",
    "    print(url)\n",
    "    print(\"Done with\", league)"
   ]
  },
  {
   "cell_type": "code",
   "execution_count": null,
   "id": "f51ad252",
   "metadata": {},
   "outputs": [],
   "source": []
  }
 ],
 "metadata": {
  "kernelspec": {
   "display_name": "Python 3 (ipykernel)",
   "language": "python",
   "name": "python3"
  },
  "language_info": {
   "codemirror_mode": {
    "name": "ipython",
    "version": 3
   },
   "file_extension": ".py",
   "mimetype": "text/x-python",
   "name": "python",
   "nbconvert_exporter": "python",
   "pygments_lexer": "ipython3",
   "version": "3.10.9"
  }
 },
 "nbformat": 4,
 "nbformat_minor": 5
}
